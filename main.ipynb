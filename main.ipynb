{
 "cells": [
  {
   "cell_type": "code",
   "execution_count": 2,
   "metadata": {},
   "outputs": [],
   "source": [
    "# Libraries\n",
    "import pandas as pd\n",
    "import numpy as np\n",
    "import matplotlib.pyplot as plt"
   ]
  },
  {
   "cell_type": "code",
   "execution_count": 3,
   "metadata": {},
   "outputs": [],
   "source": [
    "# Import data\n",
    "item_categories = pd.read_csv('data/item_categories.csv')\n",
    "items = pd.read_csv('data/items.csv')\n",
    "sales_train = pd.read_csv('data/sales_train.csv', parse_dates=['date'])\n",
    "sample_submission = pd.read_csv('data/sample_submission.csv')\n",
    "shops = pd.read_csv('data/shops.csv')\n",
    "test = pd.read_csv('data/test.csv')"
   ]
  },
  {
   "cell_type": "code",
   "execution_count": 4,
   "metadata": {},
   "outputs": [],
   "source": [
    "# Augment data\n",
    "sales_train['month'] = sales_train['date'].dt.month\n",
    "sales_train['year'] = sales_train['date'].dt.year\n",
    "sales_train['weekday'] = sales_train['date'].dt.day_of_week"
   ]
  },
  {
   "cell_type": "code",
   "execution_count": null,
   "metadata": {},
   "outputs": [],
   "source": [
    "# Visualize data\n",
    "for index, row in shops.iterrows():\n",
    "    shop_id = row['shop_id']\n",
    "    sales_per_month = sales_train[sales_train['shop_id'] == shop_id].groupby(['month']).sum()\n",
    "    plt.bar(sales_per_month.index, sales_per_month['item_cnt_day'])\n",
    "    plt.title('Shop ' + str(shop_id) + ', monthly transaction count')\n",
    "    plt.show()"
   ]
  },
  {
   "cell_type": "code",
   "execution_count": null,
   "metadata": {},
   "outputs": [],
   "source": [
    "new_df = []\n",
    "for index, row in shops.iterrows():\n",
    "    shop_id = row['shop_id']\n",
    "    for date in pd.date_range('01-01-2013', '31-10-2015'):\n",
    "        entry = [date, shop_id, 0, 0]\n",
    "        per_shop_date = sales_train.query('date == @date and shop_id == @shop_id')\n",
    "        if not per_shop_date.empty:\n",
    "            entry[2] = sum(per_shop_date['item_cnt_day'])\n",
    "        print(entry)\n",
    "        new_df.append(entry)\n",
    "        # new = sales_train[(sales_train['date'] == date)][(sales_train['shop_id'] == shop_id)]\n",
    "        # print(new)\n",
    "\n",
    "new_df = pd.DataFrame(new_df, columns=['date', 'shop_id', 'amount', 'revenue'])\n",
    "print(new_df)"
   ]
  }
 ],
 "metadata": {
  "kernelspec": {
   "display_name": "Python 3.7.6 64-bit",
   "language": "python",
   "name": "python3"
  },
  "language_info": {
   "codemirror_mode": {
    "name": "ipython",
    "version": 3
   },
   "file_extension": ".py",
   "mimetype": "text/x-python",
   "name": "python",
   "nbconvert_exporter": "python",
   "pygments_lexer": "ipython3",
   "version": "3.7.6"
  },
  "orig_nbformat": 4,
  "vscode": {
   "interpreter": {
    "hash": "61e92aa1ebc9bac0a3368d973d1ad1fb92e76f4d9828a46db9d0ad42bd63b450"
   }
  }
 },
 "nbformat": 4,
 "nbformat_minor": 2
}
